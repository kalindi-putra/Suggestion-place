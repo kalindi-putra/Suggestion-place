{
  "nbformat": 4,
  "nbformat_minor": 0,
  "metadata": {
    "colab": {
      "provenance": [],
      "authorship_tag": "ABX9TyMVUAqTuCwVVgPYtSX64QO3",
      "include_colab_link": true
    },
    "kernelspec": {
      "name": "python3",
      "display_name": "Python 3"
    },
    "language_info": {
      "name": "python"
    }
  },
  "cells": [
    {
      "cell_type": "markdown",
      "metadata": {
        "id": "view-in-github",
        "colab_type": "text"
      },
      "source": [
        "<a href=\"https://colab.research.google.com/github/kalindi-putra/Suggestion-place/blob/main/Spark_PlayGround.ipynb\" target=\"_parent\"><img src=\"https://colab.research.google.com/assets/colab-badge.svg\" alt=\"Open In Colab\"/></a>"
      ]
    },
    {
      "cell_type": "code",
      "execution_count": 1,
      "metadata": {
        "colab": {
          "base_uri": "https://localhost:8080/"
        },
        "id": "isPt5heGLoRU",
        "outputId": "b6ce7366-c2e5-4736-944d-67b7ce4d7594"
      },
      "outputs": [
        {
          "output_type": "stream",
          "name": "stdout",
          "text": [
            "Requirement already satisfied: pyspark in /usr/local/lib/python3.10/dist-packages (3.5.3)\n",
            "Collecting findspark\n",
            "  Downloading findspark-2.0.1-py2.py3-none-any.whl.metadata (352 bytes)\n",
            "Requirement already satisfied: py4j==0.10.9.7 in /usr/local/lib/python3.10/dist-packages (from pyspark) (0.10.9.7)\n",
            "Downloading findspark-2.0.1-py2.py3-none-any.whl (4.4 kB)\n",
            "Installing collected packages: findspark\n",
            "Successfully installed findspark-2.0.1\n"
          ]
        }
      ],
      "source": [
        "#Bash\n",
        "!pip install pyspark findspark"
      ]
    },
    {
      "cell_type": "code",
      "source": [
        "import findspark\n",
        "findspark.init()"
      ],
      "metadata": {
        "id": "hx5RvS47QiXW"
      },
      "execution_count": 2,
      "outputs": []
    },
    {
      "cell_type": "code",
      "source": [
        "from pyspark.sql import SparkSession\n",
        "\n",
        "spark = SparkSession.builder.appName(\"Spark Project\").getOrCreate()"
      ],
      "metadata": {
        "id": "e_-VWXIAQq_f"
      },
      "execution_count": 3,
      "outputs": []
    },
    {
      "cell_type": "code",
      "source": [
        "data=[\n",
        "    {\n",
        "        \"id\": 1,\n",
        "        \"name\": \"John\",\n",
        "        \"address\": {\n",
        "            \"city\": \"New York\",\n",
        "            \"state\": \"NY\"\n",
        "        },\n",
        "        \"phone_numbers\": [\n",
        "            {\"type\": \"home\", \"number\": \"123-456-7890\"},\n",
        "            {\"type\": \"work\", \"number\": \"987-654-3210\"}\n",
        "        ]\n",
        "    },\n",
        "    {\n",
        "        \"id\": 2,\n",
        "        \"name\": \"Jane\",\n",
        "        \"address\": {\n",
        "            \"city\": \"San Francisco\",\n",
        "            \"state\": \"CA\"\n",
        "        },\n",
        "        \"phone_numbers\": [\n",
        "            {\"type\": \"mobile\", \"number\": \"555-1234\"},\n",
        "            {\"type\": \"work\", \"number\": \"777-4321\"}\n",
        "        ]\n",
        "    }\n",
        "]"
      ],
      "metadata": {
        "id": "aJgSnOCnUFNS"
      },
      "execution_count": 5,
      "outputs": []
    },
    {
      "cell_type": "code",
      "source": [
        "DataFrame=spark.createDataFrame(data)  #defined data directly in here\n",
        "\n",
        "DataFrame.head"
      ],
      "metadata": {
        "colab": {
          "base_uri": "https://localhost:8080/",
          "height": 187
        },
        "id": "VL57_DeWUUur",
        "outputId": "72b12014-4cd0-42e6-dd10-705e7e6e4ddf"
      },
      "execution_count": 12,
      "outputs": [
        {
          "output_type": "execute_result",
          "data": {
            "text/plain": [
              "<bound method DataFrame.head of DataFrame[address: map<string,string>, id: bigint, name: string, phone_numbers: array<map<string,string>>]>"
            ],
            "text/html": [
              "<div style=\"max-width:800px; border: 1px solid var(--colab-border-color);\"><style>\n",
              "      pre.function-repr-contents {\n",
              "        overflow-x: auto;\n",
              "        padding: 8px 12px;\n",
              "        max-height: 500px;\n",
              "      }\n",
              "\n",
              "      pre.function-repr-contents.function-repr-contents-collapsed {\n",
              "        cursor: pointer;\n",
              "        max-height: 100px;\n",
              "      }\n",
              "    </style>\n",
              "    <pre style=\"white-space: initial; background:\n",
              "         var(--colab-secondary-surface-color); padding: 8px 12px;\n",
              "         border-bottom: 1px solid var(--colab-border-color);\"><b>pyspark.sql.dataframe.DataFrame.head</b><br/>def head(n: Optional[int]=None) -&gt; Union[Optional[Row], List[Row]]</pre><pre class=\"function-repr-contents function-repr-contents-collapsed\" style=\"\"><a class=\"filepath\" style=\"display:none\" href=\"#\">/usr/local/lib/python3.10/dist-packages/pyspark/sql/dataframe.py</a>Returns the first ``n`` rows.\n",
              "\n",
              ".. versionadded:: 1.3.0\n",
              "\n",
              ".. versionchanged:: 3.4.0\n",
              "    Supports Spark Connect.\n",
              "\n",
              "Notes\n",
              "-----\n",
              "This method should only be used if the resulting array is expected\n",
              "to be small, as all the data is loaded into the driver&#x27;s memory.\n",
              "\n",
              "Parameters\n",
              "----------\n",
              "n : int, optional\n",
              "    default 1. Number of rows to return.\n",
              "\n",
              "Returns\n",
              "-------\n",
              "If n is greater than 1, return a list of :class:`Row`.\n",
              "If n is 1, return a single Row.\n",
              "\n",
              "Examples\n",
              "--------\n",
              "&gt;&gt;&gt; df = spark.createDataFrame([\n",
              "...     (2, &quot;Alice&quot;), (5, &quot;Bob&quot;)], schema=[&quot;age&quot;, &quot;name&quot;])\n",
              "&gt;&gt;&gt; df.head()\n",
              "Row(age=2, name=&#x27;Alice&#x27;)\n",
              "&gt;&gt;&gt; df.head(1)\n",
              "[Row(age=2, name=&#x27;Alice&#x27;)]</pre>\n",
              "      <script>\n",
              "      if (google.colab.kernel.accessAllowed && google.colab.files && google.colab.files.view) {\n",
              "        for (const element of document.querySelectorAll('.filepath')) {\n",
              "          element.style.display = 'block'\n",
              "          element.onclick = (event) => {\n",
              "            event.preventDefault();\n",
              "            event.stopPropagation();\n",
              "            google.colab.files.view(element.textContent, 2940);\n",
              "          };\n",
              "        }\n",
              "      }\n",
              "      for (const element of document.querySelectorAll('.function-repr-contents')) {\n",
              "        element.onclick = (event) => {\n",
              "          event.preventDefault();\n",
              "          event.stopPropagation();\n",
              "          element.classList.toggle('function-repr-contents-collapsed');\n",
              "        };\n",
              "      }\n",
              "      </script>\n",
              "      </div>"
            ]
          },
          "metadata": {},
          "execution_count": 12
        }
      ]
    },
    {
      "cell_type": "code",
      "source": [
        "from pyspark.sql.functions import col,explode\n",
        "\n",
        "explodeDF=DataFrame.select(col(\"id\"),\n",
        "                         col(\"name\"),\n",
        "                         col(\"address.city\").alias(\"city\"),\n",
        "                         col(\"address.state\").alias(\"state\"),\n",
        "                         explode(col(\"phone_numbers\")).alias(\"Phone\"))"
      ],
      "metadata": {
        "id": "a_O7Lhf88Yt7"
      },
      "execution_count": 17,
      "outputs": []
    },
    {
      "cell_type": "code",
      "source": [
        "explodeDF.show(truncate=False)"
      ],
      "metadata": {
        "colab": {
          "base_uri": "https://localhost:8080/"
        },
        "id": "jT98yhxlVFGv",
        "outputId": "0b74f794-9c1a-48dd-be2b-7c2dd6f10bc8"
      },
      "execution_count": 21,
      "outputs": [
        {
          "output_type": "stream",
          "name": "stdout",
          "text": [
            "+---+----+-------------+-----+--------------------------------------+\n",
            "|id |name|city         |state|Phone                                 |\n",
            "+---+----+-------------+-----+--------------------------------------+\n",
            "|1  |John|New York     |NY   |{type -> home, number -> 123-456-7890}|\n",
            "|1  |John|New York     |NY   |{type -> work, number -> 987-654-3210}|\n",
            "|2  |Jane|San Francisco|CA   |{type -> mobile, number -> 555-1234}  |\n",
            "|2  |Jane|San Francisco|CA   |{type -> work, number -> 777-4321}    |\n",
            "+---+----+-------------+-----+--------------------------------------+\n",
            "\n"
          ]
        }
      ]
    },
    {
      "cell_type": "code",
      "source": [
        "explodeDF_new=explodeDF.select(col(\"id\"),\n",
        "                               col(\"name\"),\n",
        "                               col(\"city\"),\n",
        "                               col(\"state\"),\n",
        "                               col(\"Phone.type\").alias(\"Phone_Type\"),\n",
        "                               col(\"Phone.number\").alias(\"Phone_number\"))"
      ],
      "metadata": {
        "id": "TuUhcNgmWdG5"
      },
      "execution_count": 25,
      "outputs": []
    },
    {
      "cell_type": "code",
      "source": [
        "explodeDF_new.show(truncate=False)"
      ],
      "metadata": {
        "colab": {
          "base_uri": "https://localhost:8080/"
        },
        "id": "erjEKD1NAxgg",
        "outputId": "c084de1f-d25d-4cf2-8e5e-1f748cdc5e14"
      },
      "execution_count": 26,
      "outputs": [
        {
          "output_type": "stream",
          "name": "stdout",
          "text": [
            "+---+----+-------------+-----+----------+------------+\n",
            "|id |name|city         |state|Phone_Type|Phone_number|\n",
            "+---+----+-------------+-----+----------+------------+\n",
            "|1  |John|New York     |NY   |home      |123-456-7890|\n",
            "|1  |John|New York     |NY   |work      |987-654-3210|\n",
            "|2  |Jane|San Francisco|CA   |mobile    |555-1234    |\n",
            "|2  |Jane|San Francisco|CA   |work      |777-4321    |\n",
            "+---+----+-------------+-----+----------+------------+\n",
            "\n"
          ]
        }
      ]
    }
  ]
}